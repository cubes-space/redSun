{
 "cells": [
  {
   "cell_type": "code",
   "execution_count": 35,
   "metadata": {
    "collapsed": true
   },
   "outputs": [],
   "source": [
    "\n",
    "import numpy as np\n",
    "import xarray as xr\n",
    "import pandas as pd\n",
    "import matplotlib.pylab as plt\n",
    "%matplotlib inline"
   ]
  },
  {
   "cell_type": "code",
   "execution_count": 36,
   "outputs": [],
   "source": [
    "# Specify and load datastructure specifications\n",
    "filename='ForMia_netcdf_specs.xlsx'\n",
    "directory=''\n",
    "df_data = pd.read_excel(directory+filename,sheet_name='coords')\n",
    "unit_dict = dict(zip(df_data['var_name'],df_data['units']))\n",
    "df_coord = pd.read_excel(directory + filename, sheet_name='coords')\n",
    "unit_dict.update(dict(zip(df_coord['var_name'],df_coord['units'])))\n",
    "num_dict = dict(zip(df_data['var_name'],df_data['number']))\n",
    "encoding_dict = {}\n",
    "encoding_val = {'zlib':True,'_FillValue':0.0}\n",
    "\n",
    "# Specify specific data structure creation\n",
    "# options 'Final', 'end-point', 'across-hr', 'across-ls'\n",
    "sheet = 'across-ls'"
   ],
   "metadata": {
    "collapsed": false,
    "pycharm": {
     "name": "#%%\n"
    }
   }
  },
  {
   "cell_type": "code",
   "execution_count": 37,
   "outputs": [],
   "source": [
    "# Setup Datastructure Variables (coords\n",
    "grid =  xr.Dataset()\n",
    "filename_netCDF = '__J9GOH9T31G_singlePoint.nc'\n",
    "sample = xr.open_dataset(filename_netCDF, decode_cf=False)\n",
    "ori = ['lat', 'lon', 'ls', 'hr']\n",
    "ori_dict = dict(zip(ori,[np.arange(-90,91,10), np.arange(-180,181,10), np.arange(0,360,15), np.arange(0,25,2)]))\n",
    "\n",
    "for vari in df_coord['var_name']:\n",
    "    if vari in ori:\n",
    "        grid[vari] = ori_dict[vari]\n",
    "    else:\n",
    "        grid[vari] = sample.coords[vari].values\n",
    "    grid.coords[vari].attrs['units'] = unit_dict[vari]\n",
    "    encoding_dict[vari] = encoding_val"
   ],
   "metadata": {
    "collapsed": false,
    "pycharm": {
     "name": "#%%\n"
    }
   }
  },
  {
   "cell_type": "code",
   "execution_count": 38,
   "outputs": [],
   "source": [
    "# Create the specific datastructure\n",
    "df_data = pd.read_excel(directory+filename,sheet_name=sheet)\n",
    "unit_dict = dict(zip(df_data['var_name'],df_data['units']))\n",
    "coord_dict = dict(zip(df_data['var_name'],df_data['dims']))\n",
    "for vari in df_data['var_name']:\n",
    "    coords = coord_dict[vari].split(',')\n",
    "    zi = [len(grid.coords[i]) for i in coords]\n",
    "    grid[vari] = (tuple(coords), np.zeros(zi,dtype=np.uint8))\n",
    "    grid[vari].attrs['units'] = unit_dict[vari]\n",
    "    encoding_dict[vari] = encoding_val"
   ],
   "metadata": {
    "collapsed": false,
    "pycharm": {
     "name": "#%%\n"
    }
   }
  },
  {
   "cell_type": "code",
   "execution_count": 39,
   "outputs": [],
   "source": [
    "# Save as netCDF file.\n",
    "grid.to_netcdf(sheet+ '.nc',encoding=encoding_dict)"
   ],
   "metadata": {
    "collapsed": false,
    "pycharm": {
     "name": "#%%\n"
    }
   }
  },
  {
   "cell_type": "code",
   "execution_count": 39,
   "outputs": [],
   "source": [],
   "metadata": {
    "collapsed": false,
    "pycharm": {
     "name": "#%%\n"
    }
   }
  }
 ],
 "metadata": {
  "kernelspec": {
   "display_name": "Python 3",
   "language": "python",
   "name": "python3"
  },
  "language_info": {
   "codemirror_mode": {
    "name": "ipython",
    "version": 2
   },
   "file_extension": ".py",
   "mimetype": "text/x-python",
   "name": "python",
   "nbconvert_exporter": "python",
   "pygments_lexer": "ipython2",
   "version": "2.7.6"
  }
 },
 "nbformat": 4,
 "nbformat_minor": 0
}