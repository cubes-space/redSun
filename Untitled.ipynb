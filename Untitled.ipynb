{
 "cells": [
  {
   "cell_type": "code",
   "execution_count": 1,
   "metadata": {},
   "outputs": [
    {
     "name": "stdout",
     "output_type": "stream",
     "text": [
      "MCD Imported\n"
     ]
    }
   ],
   "source": [
    "import rs_funcs as rs\n",
    "import matplotlib.pyplot as plt\n",
    "import numpy as np"
   ]
  },
  {
   "cell_type": "code",
   "execution_count": 2,
   "metadata": {},
   "outputs": [],
   "source": [
    "inds = [0,10,19,6]\n",
    "# inds = [0,0,0,6]\n",
    "filename_netCDF = 'StupidGridFull.nc'"
   ]
  },
  {
   "cell_type": "code",
   "execution_count": 7,
   "metadata": {
    "scrolled": false
   },
   "outputs": [
    {
     "data": {
      "text/plain": [
       "0.005286057984592051"
      ]
     },
     "execution_count": 7,
     "metadata": {},
     "output_type": "execute_result"
    }
   ],
   "source": [
    "a,b= rs.paralell_lrt(inds,filename_netCDF=filename_netCDF)\n",
    "[wl, j1_bg, j2_bg1, j2_bg2, j3_bg1, j3_bg2, j3_bg3, id, edir, edn, eup, eglo, mcd_lrt_error, j1_etaPV,j1_etaPEC_H2,j1_etaPEC_NH3,j1_etaPEC_AA, j1_max_etaPV,j1_max_etaPEC_H2,j1_max_etaPEC_NH3,j1_max_etaPEC_AA,j1_bg_PVmax,j1_bg_H2max,j1_bg_NH3max,j1_bg_AAmax,j2_etaPV_2bg,j2_etaPEC_H2_2bg,j2_etaPEC_NH3_2bg,j2_etaPEC_AA_2bg, j2_max_etaPV_2bg,j2_max_etaPEC_H2_2bg,j2_max_etaPEC_NH3_2bg,j2_max_etaPEC_AA_2bg, j2_bg1_PVmax,j2_bg2_PVmax,j2_bg1_H2max,j2_bg2_H2max,j2_bg1_NH3max,j2_bg2_NH3max,j2_bg1_AAmax,j2_bg2_AAmax,j3_etaPV_3bg,j3_max_etaPV_3bg,j3_bg1max,j3_bg2max,j3_bg3max,j3_J_bg1,j3_J_bg2,j3_J_bg3] = b\n",
    "mcd_lrt_error"
   ]
  },
  {
   "cell_type": "code",
   "execution_count": null,
   "metadata": {},
   "outputs": [],
   "source": []
  },
  {
   "cell_type": "code",
   "execution_count": null,
   "metadata": {},
   "outputs": [],
   "source": [
    "inds = [0,3,0,6]\n",
    "a,b = rs.paralell_lrt(inds,filename_netCDF=filename_netCDF)\n",
    "[id, edir, edn, eup, eglo, mcd_lrt_error, j1_etaPV,j1_etaPEC_H2,j1_etaPEC_NH3,j1_etaPEC_AA, j1_max_etaPV,j1_max_etaPEC_H2,j1_max_etaPEC_NH3,j1_max_etaPEC_AA,j1_bg_PVmax,j1_bg_H2max,j1_bg_NH3max,j1_bg_AAmax,j2_etaPV_2bg,j2_etaPEC_H2_2bg,j2_etaPEC_NH3_2bg,j2_etaPEC_AA_2bg, j2_max_etaPV_2bg,j2_max_etaPEC_H2_2bg,j2_max_etaPEC_NH3_2bg,j2_max_etaPEC_AA_2bg, j2_bg1_PVmax,j2_bg2_PVmax,j2_bg1_H2max,j2_bg2_H2max,j2_bg1_NH3max,j2_bg2_NH3max,j2_bg1_AAmax,j2_bg2_AAmax,j3_etaPV_3bg,j3_max_etaPV_3bg,j3_bg1max,j3_bg2max,j3_bg3max,j3_J_bg1,j3_J_bg2,j3_J_bg3]  = b\n",
    "mcd_lrt_error"
   ]
  },
  {
   "cell_type": "code",
   "execution_count": null,
   "metadata": {},
   "outputs": [],
   "source": [
    "plt.plot(edir)"
   ]
  },
  {
   "cell_type": "code",
   "execution_count": null,
   "metadata": {},
   "outputs": [],
   "source": [
    "a = rs.get_extraFlux()\n",
    "F152 = a['F152']"
   ]
  },
  {
   "cell_type": "code",
   "execution_count": null,
   "metadata": {},
   "outputs": [],
   "source": [
    "lat_v = np.arange(0,1)\n",
    "lon_v = np.arange(0,1)\n",
    "time_v = np.arange(0,25,1)\n",
    "# time_v = np.arange(0,1)\n",
    "ls_v = np.arange(0,361,15)\n",
    "\n",
    "a = rs.get_extraFlux()\n",
    "F152 = a['F152']\n",
    "\n",
    "mu = []\n",
    "for lat in lat_v:\n",
    "    for lon in lon_v:\n",
    "        for time in time_v:\n",
    "            for ls in ls_v:\n",
    "                d = rs.get_correctFlux_TOA(F152, L_s=ls, t=time,  timedep=True)\n",
    "                mu.append(d['mu_0'])"
   ]
  },
  {
   "cell_type": "code",
   "execution_count": null,
   "metadata": {},
   "outputs": [],
   "source": [
    "plt.plot(mu)"
   ]
  },
  {
   "cell_type": "code",
   "execution_count": null,
   "metadata": {},
   "outputs": [],
   "source": [
    "F"
   ]
  },
  {
   "cell_type": "code",
   "execution_count": null,
   "metadata": {},
   "outputs": [],
   "source": []
  }
 ],
 "metadata": {
  "kernelspec": {
   "display_name": "Python 3",
   "language": "python",
   "name": "python3"
  },
  "language_info": {
   "codemirror_mode": {
    "name": "ipython",
    "version": 3
   },
   "file_extension": ".py",
   "mimetype": "text/x-python",
   "name": "python",
   "nbconvert_exporter": "python",
   "pygments_lexer": "ipython3",
   "version": "3.6.7"
  }
 },
 "nbformat": 4,
 "nbformat_minor": 2
}
