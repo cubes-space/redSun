{
 "cells": [
  {
   "cell_type": "markdown",
   "metadata": {},
   "source": [
    "# Autogenerate SLURM taskfile"
   ]
  },
  {
   "cell_type": "code",
   "execution_count": 3,
   "metadata": {},
   "outputs": [],
   "source": [
    "import numpy as np"
   ]
  },
  {
   "cell_type": "code",
   "execution_count": 7,
   "metadata": {},
   "outputs": [],
   "source": [
    "lat_v = np.arange(0,19)\n",
    "lon_v = np.arange(0,37)\n",
    "time_v = np.arange(0,13)\n",
    "ls_v = np.arange(0,25)\n",
    "filename = 'StupidGridFull'\n",
    "\n",
    "fileoutname = 'taskfile'\n",
    "\n",
    "myfile = open(fileoutname, 'w')\n",
    "\n",
    "for ls in ls_v:\n",
    "    for lat in lat_v:\n",
    "        for lon in lon_v:\n",
    "            for time in time_v:\n",
    "                string = 'source activate /global/scratch/aaronberliner/rs; python rs_SLURM.py {} {} {} {} {}\\n'.format(lat,lon,ls,time,filename)\n",
    "                myfile.writelines(string)\n",
    "myfile.close()"
   ]
  },
  {
   "cell_type": "code",
   "execution_count": 6,
   "metadata": {},
   "outputs": [],
   "source": [
    "## For Map"
   ]
  },
  {
   "cell_type": "code",
   "execution_count": 2,
   "metadata": {},
   "outputs": [],
   "source": [
    "# lat_v = np.arange(4,15)\n",
    "# lon_v = np.arange(0,37)\n",
    "# time_v = np.arange(7,8)\n",
    "# # time_v = np.arange(0,13)\n",
    "# ls_v = np.arange(0,1)\n",
    "# # ls_v = np.arange(0,223)\n",
    "# filename = 'StupidGridFull'\n",
    "\n",
    "# fileoutname = 'taskfile_ls7'\n",
    "# # fileoutname = '/global/users/aaronberliner/redSun/taskfile_all_all_6_0'\n",
    "\n",
    "# myfile = open(fileoutname, 'w')\n",
    "\n",
    "\n",
    "\n",
    "\n",
    "# for ls in ls_v:\n",
    "#     for lat in lat_v:\n",
    "#         for lon in lon_v:\n",
    "#             for time in time_v:\n",
    "#                 string = 'source activate /global/scratch/aaronberliner/rs; python rs_SLURM.py {} {} {} {} {}\\n'.format(lat,lon,ls,time,filename)\n",
    "#                 myfile.writelines(string)\n",
    "# myfile.close()"
   ]
  },
  {
   "cell_type": "code",
   "execution_count": null,
   "metadata": {},
   "outputs": [],
   "source": []
  }
 ],
 "metadata": {
  "kernelspec": {
   "display_name": "Python 3",
   "language": "python",
   "name": "python3"
  },
  "language_info": {
   "codemirror_mode": {
    "name": "ipython",
    "version": 3
   },
   "file_extension": ".py",
   "mimetype": "text/x-python",
   "name": "python",
   "nbconvert_exporter": "python",
   "pygments_lexer": "ipython3",
   "version": "3.6.7"
  }
 },
 "nbformat": 4,
 "nbformat_minor": 2
}
