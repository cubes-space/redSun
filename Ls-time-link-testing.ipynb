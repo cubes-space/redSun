{
 "cells": [
  {
   "cell_type": "markdown",
   "metadata": {
    "collapsed": true,
    "pycharm": {
     "name": "#%% md\n"
    }
   },
   "source": [
    "# Time Testing\n"
   ]
  },
  {
   "cell_type": "code",
   "source": [
    "## import libraries\n",
    "import numpy as np\n",
    "import matplotlib.pyplot as plt"
   ],
   "metadata": {
    "collapsed": false,
    "pycharm": {
     "name": "#%% \n",
     "is_executing": false
    }
   },
   "execution_count": 1,
   "outputs": []
  },
  {
   "cell_type": "code",
   "execution_count": 4,
   "outputs": [],
   "source": [
    "def calc_E(M,e=0.0934,n=1000):\n",
    "    E = M\n",
    "    for k in range(0,n):\n",
    "        E = M + e*np.sin(E)\n",
    "    return E"
   ],
   "metadata": {
    "collapsed": false,
    "pycharm": {
     "name": "#%%\n",
     "is_executing": false
    }
   }
  },
  {
   "cell_type": "code",
   "execution_count": 5,
   "outputs": [],
   "source": [
    "N_s = 668.6\n",
    "Ls_peri = 250.99\n",
    "t_peri = 485.35\n",
    "a = 1.52368\n",
    "e = 0.09340\n",
    "epsilon = 25.1919\n",
    "\n",
    "\n",
    "sols = np.arange(0,668.6+1)\n",
    "hrs = np.arange(0,24+1)\n",
    "sols_and_hrs = np.array([[i+j/24 for j in hrs] for i in sols]).flatten()"
   ],
   "metadata": {
    "collapsed": false,
    "pycharm": {
     "name": "#%%\n",
     "is_executing": false
    }
   }
  },
  {
   "cell_type": "code",
   "execution_count": 6,
   "outputs": [],
   "source": [
    "D_s = sols_and_hrs\n",
    "M = 2*np.pi*((D_s-t_peri)/N_s)\n",
    "E = np.array([calc_E(i) for i in M])\n",
    "nu = 2*np.arctan((np.sqrt(((1+e)/(1-e)))*np.tan(E/2)))\n",
    "\n",
    "\n"
   ],
   "metadata": {
    "collapsed": false,
    "pycharm": {
     "name": "#%%\n",
     "is_executing": false
    }
   }
  },
  {
   "cell_type": "code",
   "execution_count": 7,
   "outputs": [],
   "source": [
    "Ls = np.mod((nu*180/np.pi)+Ls_peri,360)"
   ],
   "metadata": {
    "collapsed": false,
    "pycharm": {
     "name": "#%%\n",
     "is_executing": false
    }
   }
  },
  {
   "cell_type": "code",
   "execution_count": 8,
   "outputs": [
    {
     "data": {
      "text/plain": "[<matplotlib.lines.Line2D at 0x7fd7a0063e50>]"
     },
     "metadata": {},
     "output_type": "execute_result",
     "execution_count": 8
    },
    {
     "data": {
      "text/plain": "<Figure size 432x288 with 1 Axes>",
      "image/png": "[encoded data removed]"
     },
     "metadata": {
      "needs_background": "light"
     },
     "output_type": "display_data"
    }
   ],
   "source": [
    "plt.plot(D_s,Ls)"
   ],
   "metadata": {
    "collapsed": false,
    "pycharm": {
     "name": "#%%\n",
     "is_executing": false
    }
   }
  },
  {
   "cell_type": "code",
   "execution_count": 9,
   "outputs": [],
   "source": [
    "\n",
    "from mcd3 import mcd"
   ],
   "metadata": {
    "collapsed": false,
    "pycharm": {
     "name": "#%%\n",
     "is_executing": false
    }
   }
  },
  {
   "cell_type": "code",
   "execution_count": 10,
   "outputs": [],
   "source": [
    "scenario = 1\n",
    "lat = 85\n",
    "lon = 10\n",
    "ls = 20\n",
    "hr = 0"
   ],
   "metadata": {
    "collapsed": false,
    "pycharm": {
     "name": "#%%\n",
     "is_executing": false
    }
   }
  },
  {
   "cell_type": "code",
   "execution_count": 11,
   "outputs": [],
   "source": [
    "req = mcd()\n",
    "req.dust = scenario\n",
    "req.lat = lat\n",
    "req.lon = lon\n",
    "req.xdate = ls\n",
    "req.loct = hr\n",
    "req.fixedlt = True\n",
    "req.update()\n",
    "req.profile()\n",
    "\n",
    "\n"
   ],
   "metadata": {
    "collapsed": false,
    "pycharm": {
     "name": "#%%\n",
     "is_executing": false
    }
   }
  },
  {
   "cell_type": "code",
   "execution_count": 12,
   "outputs": [],
   "source": [
    "datavars=[91,93,63,62,57,42,45,44,39,38,32,31,30,33,92,2]\n",
    "vals = [req.getextvar(var) for var in datavars]\n",
    "\n"
   ],
   "metadata": {
    "collapsed": false,
    "pycharm": {
     "name": "#%%\n",
     "is_executing": false
    }
   }
  },
  {
   "cell_type": "code",
   "execution_count": 13,
   "outputs": [
    {
     "data": {
      "text/plain": "0.058800086282857836"
     },
     "metadata": {},
     "output_type": "execute_result",
     "execution_count": 13
    }
   ],
   "source": [
    "req.lat = lat\n",
    "req.lon = lon\n",
    "req.xdate = ls\n",
    "req.loct = hr\n",
    "req.fixedlt = True\n",
    "req.update()\n",
    "req.profile()\n",
    "np.clip(np.cos(np.deg2rad(req.getextvar(56)[0])),a_min=0, a_max=None)"
   ],
   "metadata": {
    "collapsed": false,
    "pycharm": {
     "name": "#%%\n",
     "is_executing": false
    }
   }
  },
  {
   "cell_type": "code",
   "execution_count": 13,
   "outputs": [],
   "source": [],
   "metadata": {
    "collapsed": false,
    "pycharm": {
     "name": "#%%\n",
     "is_executing": false
    }
   }
  },
  {
   "cell_type": "code",
   "execution_count": 14,
   "outputs": [
    {
     "data": {
      "text/plain": "0.058800086282857836"
     },
     "metadata": {},
     "output_type": "execute_result",
     "execution_count": 14
    }
   ],
   "source": [
    "from fmcd import solarzenithangle\n",
    "\n",
    "z = solarzenithangle(lat,ls,hr)\n",
    "np.clip(np.cos(np.deg2rad(z)),a_min=0, a_max=None)"
   ],
   "metadata": {
    "collapsed": false,
    "pycharm": {
     "name": "#%%\n",
     "is_executing": false
    }
   }
  },
  {
   "cell_type": "code",
   "execution_count": 17,
   "outputs": [],
   "source": [
    "# for lati in )\n",
    "lats = np.arange(-90,91,10)\n",
    "hrss = np.arange(0,24.1,2)\n",
    "lss = np.arange(0,360,20)\n",
    "\n",
    "zs = np.zeros((len(lats),len(hrss),len(lss)))"
   ],
   "metadata": {
    "collapsed": false,
    "pycharm": {
     "name": "#%%\n",
     "is_executing": false
    }
   }
  },
  {
   "cell_type": "code",
   "execution_count": 18,
   "outputs": [],
   "source": [
    "for i in range(0,len(lats)):\n",
    "    for j in range(0,len(hrss)):\n",
    "        for k in range(0,len(lss)):\n",
    "            z = solarzenithangle(lats[i],lss[k],hrss[j])\n",
    "            zs[i,j,k] = np.clip(np.cos(np.deg2rad(z)),a_min=0, a_max=None)"
   ],
   "metadata": {
    "collapsed": false,
    "pycharm": {
     "name": "#%%\n",
     "is_executing": false
    }
   }
  },
  {
   "cell_type": "code",
   "execution_count": 19,
   "outputs": [],
   "source": [
    "# zs"
   ],
   "metadata": {
    "collapsed": false,
    "pycharm": {
     "name": "#%%\n",
     "is_executing": false
    }
   }
  },
  {
   "cell_type": "code",
   "execution_count": 30,
   "outputs": [
    {
     "data": {
      "text/plain": "<matplotlib.colorbar.Colorbar at 0x7fd7e0aae2b0>"
     },
     "metadata": {},
     "output_type": "execute_result",
     "execution_count": 30
    },
    {
     "data": {
      "text/plain": "<Figure size 432x288 with 2 Axes>",
      "image/png": "[encoded data removed]"
     },
     "metadata": {
      "needs_background": "light"
     },
     "output_type": "display_data"
    }
   ],
   "source": [
    "x,y = np.meshgrid(lats,lss)\n",
    "plt.contourf(x,y,zs[:,5,:].transpose())\n",
    "plt.colorbar()"
   ],
   "metadata": {
    "collapsed": false,
    "pycharm": {
     "name": "#%%\n",
     "is_executing": false
    }
   }
  },
  {
   "cell_type": "code",
   "execution_count": 11,
   "outputs": [
    {
     "data": {
      "text/plain": "<matplotlib.colorbar.Colorbar at 0x7fb40895bba8>"
     },
     "metadata": {},
     "output_type": "execute_result",
     "execution_count": 11
    },
    {
     "data": {
      "text/plain": "<Figure size 432x288 with 2 Axes>",
      "image/png": "[encoded data removed]"
     },
     "metadata": {
      "needs_background": "light"
     },
     "output_type": "display_data"
    }
   ],
   "source": [
    "\n",
    "for i in range(0,len(lats)):\n",
    "    for j in range(0,len(hrss)):\n",
    "        for k in range(0,len(lss)):\n",
    "            req.lat = lats[i]\n",
    "            req.xdate = lss[k]\n",
    "            req.loct = hrss[j]\n",
    "            req.fixedlt = True\n",
    "            req.update()\n",
    "            req.profile()\n",
    "            z = np.clip(np.cos(np.deg2rad(req.getextvar(56)[0])),a_min=0, a_max=None)\n",
    "            zs[i,j,k] = z\n",
    "            \n",
    "x,y = np.meshgrid(lats,hrss)\n",
    "plt.contourf(x,y,zs[:,:,16].transpose())\n",
    "plt.colorbar()"
   ],
   "metadata": {
    "collapsed": false,
    "pycharm": {
     "name": "#%%\n",
     "is_executing": false
    }
   }
  },
  {
   "cell_type": "code",
   "execution_count": null,
   "outputs": [],
   "source": [
    "\n"
   ],
   "metadata": {
    "collapsed": false,
    "pycharm": {
     "name": "#%%\n"
    }
   }
  }
 ],
 "metadata": {
  "kernelspec": {
   "display_name": "Python 3",
   "language": "python",
   "name": "python3"
  },
  "language_info": {
   "codemirror_mode": {
    "name": "ipython",
    "version": 2
   },
   "file_extension": ".py",
   "mimetype": "text/x-python",
   "name": "python",
   "nbconvert_exporter": "python",
   "pygments_lexer": "ipython2",
   "version": "2.7.6"
  },
  "pycharm": {
   "stem_cell": {
    "cell_type": "raw",
    "source": [],
    "metadata": {
     "collapsed": false
    }
   }
  }
 },
 "nbformat": 4,
 "nbformat_minor": 0
}