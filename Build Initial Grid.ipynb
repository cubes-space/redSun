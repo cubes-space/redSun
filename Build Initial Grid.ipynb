{
 "cells": [
  {
   "cell_type": "markdown",
   "metadata": {
    "collapsed": true,
    "pycharm": {
     "name": "#%% md\n"
    }
   },
   "source": [
    "# Build Initial Grid"
   ]
  },
  {
   "cell_type": "code",
   "source": [
    "## Import libraries\n",
    "import rs_funcs as rs"
   ],
   "metadata": {
    "collapsed": false,
    "pycharm": {
     "name": "#%% \n",
     "is_executing": false
    }
   },
   "execution_count": 4,
   "outputs": []
  },
  {
   "cell_type": "code",
   "execution_count": null,
   "outputs": [
    {
     "name": "stdout",
     "text": [
      "Total Number of Parameters in Sweep:228475\n"
     ],
     "output_type": "stream"
    }
   ],
   "source": [
    "## Create Initial Grid from MCD\n",
    "scenario = 1\n",
    "\n",
    "env = rs.Enviornment(filename='parameter_sets.xlsx', directory='parameters/', parameter_set='full_value')\n",
    "env.initialize_grid()\n",
    "env.calc_mcd_grid(scenario=scenario)\n",
    "env.grid.to_netcdf('Initial_Grid.nc',encoding=env.encoding_dict)"
   ],
   "metadata": {
    "collapsed": false,
    "pycharm": {
     "name": "#%%\n",
     "is_executing": true
    }
   }
  },
  {
   "cell_type": "code",
   "execution_count": null,
   "outputs": [],
   "source": [
    "\n"
   ],
   "metadata": {
    "collapsed": false,
    "pycharm": {
     "name": "#%%\n"
    }
   }
  }
 ],
 "metadata": {
  "kernelspec": {
   "display_name": "Python 3",
   "language": "python",
   "name": "python3"
  },
  "language_info": {
   "codemirror_mode": {
    "name": "ipython",
    "version": 2
   },
   "file_extension": ".py",
   "mimetype": "text/x-python",
   "name": "python",
   "nbconvert_exporter": "python",
   "pygments_lexer": "ipython2",
   "version": "2.7.6"
  },
  "pycharm": {
   "stem_cell": {
    "cell_type": "raw",
    "source": [],
    "metadata": {
     "collapsed": false
    }
   }
  }
 },
 "nbformat": 4,
 "nbformat_minor": 0
}