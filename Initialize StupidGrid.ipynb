{
 "cells": [
  {
   "cell_type": "markdown",
   "metadata": {},
   "source": [
    "# Initialization of StupidGrid\n",
    "\n",
    "In order to run the full redSun grid calculations, it is helpful to break the compute into two parts. The first part is the computation of a \"StupidGrid\" based on the MCD database. This can be thought of as preparing an initial netcdf file for downstream computation. This is also helpful when running the second downstream libRadtran RT calculation part on a server that has not been configured with MCD. \n",
    "\n",
    "* 1 = Climatology Scenario, solar EUV average conditions\n",
    "* 2 = Climatology Scenario, solar EUV minimum conditions\n",
    "* 3 = Climatology Scenario, solar EUV maximum conditions\n",
    "* 4 = dust storm $\\tau$ = 5, solar minimum conditions\n",
    "* 5 = dust storm $\\tau$ = 5, solar averaged conditions\n",
    "* 6 = dust storm $\\tau$ = 5, solar maximum conditions\n",
    "* 7 = warm scenario: dusty atmosphere, solar max\n",
    "* 8 = cold scenario: low dust conditions, solar min.\n",
    "* 24 = Mars Year 24, with associated solar EUV conditions.\n",
    "* 25 = Mars Year 25, with associated solar EUV conditions.\n",
    "* 26 = Mars Year 26, with associated solar EUV conditions.\n",
    "* 27 = Mars Year 27, with associated solar EUV conditions.\n",
    "* 28 = Mars Year 28, with associated solar EUV conditions.\n",
    "* 29 = Mars Year 29, with associated solar EUV conditions.\n",
    "* 30 = Mars Year 30, with associated solar EUV conditions.\n",
    "* 31 = Mars Year 31, with associated solar EUV conditions.\n",
    "* 32 = Mars Year 32, with associated solar EUV conditions.\n",
    "\n",
    "\n",
    "N.B. The solar conditions describe variations in the Extreme UV input which control\n",
    "the heating of the atmosphere above ~120 km, which typically varies on a 11 years\n",
    "cycle. The different dust scenarios differ by dust amount and distribution used to\n",
    "create the data files (dust is highly variable on Mars from year to year).\n",
    "\n",
    "\n",
    "The “Climatology” dust scenario is designed be representative of a baseline typical\n",
    "Mars year.\n",
    "\n",
    "\n",
    "The warm and cold scenario are provided to bracket the possible dust content of the\n",
    "atmosphere, outside global dust storms.\n",
    "dust storm $\\tau$ = 5 represents Mars during a global dust storm (dust opacity set to 5\n",
    "and using a darker dust). Only available when such storms are likely to happen,\n",
    "during northern fall and winter (Ls=180-360)."
   ]
  },
  {
   "cell_type": "code",
   "execution_count": null,
   "metadata": {
    "pycharm": {
     "is_executing": false
    }
   },
   "outputs": [],
   "source": [
    "## Import libraries\n",
    "import rs_funcs as rs"
   ]
  },
  {
   "cell_type": "markdown",
   "metadata": {},
   "source": [
    "## Normal Scenario"
   ]
  },
  {
   "cell_type": "code",
   "execution_count": null,
   "metadata": {
    "pycharm": {
     "is_executing": false
    }
   },
   "outputs": [],
   "source": [
    "## Run stupidgrid\n",
    "## For testing set `param_set = 'test_value'`\n",
    "## To name netcdf file, set `filename_netCDF='Name'`\n",
    "rs.main_mcd_grid(param_set='full_value', filename_netCDF='StupidGridFull')"
   ]
  },
  {
   "cell_type": "markdown",
   "metadata": {},
   "source": [
    "## Dust Storm"
   ]
  },
  {
   "cell_type": "code",
   "execution_count": null,
   "metadata": {
    "pycharm": {
     "is_executing": false
    }
   },
   "outputs": [],
   "source": [
    "## Run stupidgrid\n",
    "## For testing set `param_set = 'test_value'`\n",
    "## To name netcdf file, set `filename_netCDF='Name'`\n",
    "rs.main_mcd_grid(param_set='half_full_value', filename_netCDF='StupidGridFullDustStorm', scenario=5)"
   ]
  },
  {
   "cell_type": "markdown",
   "metadata": {},
   "source": [
    "## Cold Scenario"
   ]
  },
  {
   "cell_type": "code",
   "execution_count": null,
   "metadata": {
    "pycharm": {
     "is_executing": false
    }
   },
   "outputs": [],
   "source": [
    "## Run stupidgrid\n",
    "## For testing set `param_set = 'test_value'`\n",
    "## To name netcdf file, set `filename_netCDF='Name'`\n",
    "rs.main_mcd_grid(param_set='full_value', filename_netCDF='StupidGridFullCold', scenario=8)"
   ]
  },
  {
   "cell_type": "markdown",
   "metadata": {},
   "source": [
    "## Warm Scenario"
   ]
  },
  {
   "cell_type": "code",
   "execution_count": null,
   "metadata": {},
   "outputs": [],
   "source": [
    "## Run stupidgrid\n",
    "## For testing set `param_set = 'test_value'`\n",
    "## To name netcdf file, set `filename_netCDF='Name'`\n",
    "rs.main_mcd_grid(param_set='full_value', filename_netCDF='StupidGridFullWarm', scenario=7)"
   ]
  }
 ],
 "metadata": {
  "kernelspec": {
   "display_name": "Python 3",
   "language": "python",
   "name": "python3"
  },
  "language_info": {
   "codemirror_mode": {
    "name": "ipython",
    "version": 3
   },
   "file_extension": ".py",
   "mimetype": "text/x-python",
   "name": "python",
   "nbconvert_exporter": "python",
   "pygments_lexer": "ipython3",
   "version": "3.6.7"
  },
  "pycharm": {
   "stem_cell": {
    "cell_type": "raw",
    "metadata": {
     "collapsed": false
    },
    "source": []
   }
  }
 },
 "nbformat": 4,
 "nbformat_minor": 2
}
